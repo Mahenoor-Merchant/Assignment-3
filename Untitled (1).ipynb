{
 "cells": [
  {
   "cell_type": "code",
   "execution_count": 3,
   "id": "a64983d1-a448-4745-9b31-379c953eb7cb",
   "metadata": {},
   "outputs": [
    {
     "name": "stdout",
     "output_type": "stream",
     "text": [
      "The for loop is used when we already know the number of iterations,\n",
      "which means when we know how many times a statement has to be executed.\n",
      "That is why we have to specify the ending point in the for loop initialization.\n",
      "When we need to end the loop on a condition other than the number of times, we use a while loop.\n"
     ]
    }
   ],
   "source": [
    "#WHEN TO USE WHILE LOOP AND FOR LOOP\n",
    "print(\"\"\"The for loop is used when we already know the number of iterations,\n",
    "which means when we know how many times a statement has to be executed.\n",
    "That is why we have to specify the ending point in the for loop initialization.\n",
    "When we need to end the loop on a condition other than the number of times, we use a while loop.\"\"\")"
   ]
  },
  {
   "cell_type": "code",
   "execution_count": 13,
   "id": "8d901034-9c7a-4903-a354-37535646e349",
   "metadata": {},
   "outputs": [
    {
     "name": "stdout",
     "output_type": "stream",
     "text": [
      "0\n",
      "1\n",
      "4\n",
      "9\n",
      "16\n",
      "25\n",
      "36\n",
      "49\n",
      "64\n",
      "81\n"
     ]
    }
   ],
   "source": [
    "#example of for loop\n",
    "l=list(range(10))\n",
    "\n",
    "for i in l:\n",
    "    print(i**2)\n",
    "    "
   ]
  },
  {
   "cell_type": "code",
   "execution_count": 15,
   "id": "4161286a-7452-4e47-b7b8-ba23ee857ba9",
   "metadata": {},
   "outputs": [],
   "source": [
    "#example of while loop"
   ]
  },
  {
   "cell_type": "code",
   "execution_count": 14,
   "id": "faa29df8-9375-48eb-9181-01e6991a1c17",
   "metadata": {},
   "outputs": [
    {
     "name": "stdin",
     "output_type": "stream",
     "text": [
      "enter the number for table 10\n"
     ]
    },
    {
     "name": "stdout",
     "output_type": "stream",
     "text": [
      "10 * 1 = 10\n",
      "10 * 2 = 10\n",
      "10 * 3 = 10\n",
      "10 * 4 = 10\n",
      "10 * 5 = 10\n",
      "10 * 6 = 10\n",
      "10 * 7 = 10\n",
      "10 * 8 = 10\n",
      "10 * 9 = 10\n",
      "10 * 10 = 10\n"
     ]
    }
   ],
   "source": [
    "i=1\n",
    "n=int(input(\"enter the number for table\"))\n",
    "result=n*i\n",
    "while i<=10:\n",
    "    print(n,\"*\",i,\"=\", result)\n",
    "    i=i+1"
   ]
  },
  {
   "cell_type": "code",
   "execution_count": 4,
   "id": "99319597-15ad-4e0a-b833-877ecb685f4a",
   "metadata": {},
   "outputs": [],
   "source": [
    "#summing up with for loop"
   ]
  },
  {
   "cell_type": "code",
   "execution_count": 21,
   "id": "6aab14a9-4f72-41db-8993-7ed705c786d5",
   "metadata": {},
   "outputs": [
    {
     "data": {
      "text/plain": [
       "55"
      ]
     },
     "execution_count": 21,
     "metadata": {},
     "output_type": "execute_result"
    }
   ],
   "source": [
    "l=list(range(11))\n",
    "result=0\n",
    "\n",
    "for i in l:\n",
    "    result=result+i\n",
    "result\n",
    "    \n"
   ]
  },
  {
   "cell_type": "code",
   "execution_count": 5,
   "id": "1ee34fd2-da4c-4d5c-b7f9-fab12dcc9358",
   "metadata": {},
   "outputs": [],
   "source": [
    "#summing up with while loop"
   ]
  },
  {
   "cell_type": "code",
   "execution_count": 3,
   "id": "0fd42f38-bd75-4432-a717-ffa16c2eef7e",
   "metadata": {},
   "outputs": [
    {
     "data": {
      "text/plain": [
       "55"
      ]
     },
     "execution_count": 3,
     "metadata": {},
     "output_type": "execute_result"
    }
   ],
   "source": [
    "n=10\n",
    "counter=1\n",
    "starting_point=0\n",
    "while counter<=n:\n",
    "    starting_point=starting_point+counter\n",
    "    counter=counter+1\n",
    "starting_point"
   ]
  },
  {
   "cell_type": "code",
   "execution_count": 14,
   "id": "216fee12-95e8-4f23-9bc4-33585eb78693",
   "metadata": {},
   "outputs": [],
   "source": [
    "#product of first 10 natural numbers with while loop"
   ]
  },
  {
   "cell_type": "code",
   "execution_count": 5,
   "id": "0e8b7c42-c73e-43c1-b045-0781dbcb46d8",
   "metadata": {},
   "outputs": [
    {
     "data": {
      "text/plain": [
       "3628800"
      ]
     },
     "execution_count": 5,
     "metadata": {},
     "output_type": "execute_result"
    }
   ],
   "source": [
    "number=10\n",
    "product=1\n",
    "while number > 0:\n",
    "    product=product*number \n",
    "    number =number -1\n",
    "product"
   ]
  },
  {
   "cell_type": "code",
   "execution_count": 15,
   "id": "8ddd3538-d7ef-4a58-b7ce-a9b3f86a0119",
   "metadata": {},
   "outputs": [],
   "source": [
    "#product of first 10 natural numbers with for loop"
   ]
  },
  {
   "cell_type": "code",
   "execution_count": 1,
   "id": "b8ab82bf-19c5-4d6e-abaa-30a5c4028892",
   "metadata": {},
   "outputs": [
    {
     "name": "stdout",
     "output_type": "stream",
     "text": [
      "3628800\n"
     ]
    }
   ],
   "source": [
    "l=list(range(1,11))\n",
    "length=len(l)\n",
    "product=1\n",
    "for i in l:\n",
    "    product=product*length\n",
    "    length=length-1\n",
    "print(product)"
   ]
  },
  {
   "cell_type": "code",
   "execution_count": 7,
   "id": "da03453a-b03a-4a83-b45f-7f792ea0ad05",
   "metadata": {},
   "outputs": [
    {
     "name": "stdin",
     "output_type": "stream",
     "text": [
      "ENTER THE NUMBER OF UNITS CONSUMED IN A MONTH :  310\n"
     ]
    },
    {
     "name": "stdout",
     "output_type": "stream",
     "text": [
      "YOUR TOTAL ELECTRICITY BILL IS RS. 2250.0\n"
     ]
    }
   ],
   "source": [
    "def electricity_bill(units):\n",
    "    bill=0\n",
    "    if units<=100:\n",
    "        bill=units*4.5\n",
    "    elif units<=200:\n",
    "        bill=100*4.5 + 100*6\n",
    "    elif units<=300:\n",
    "        bill=100*4.5 + 100 * 6 +100*10\n",
    "    elif units >300:\n",
    "        bill=100*4.5+ 100 * 6 + 100 * 10 + (units-300)*20\n",
    "    return bill\n",
    "units=int(input(\"ENTER THE NUMBER OF UNITS CONSUMED IN A MONTH : \"))\n",
    "bill=electricity_bill(units)\n",
    "print(\"YOUR TOTAL ELECTRICITY BILL IS RS.\",bill)        \n",
    "        "
   ]
  },
  {
   "cell_type": "code",
   "execution_count": 18,
   "id": "e2025f8b-abf8-41f4-aff8-b5e94562f2fc",
   "metadata": {},
   "outputs": [
    {
     "data": {
      "text/plain": [
       "[2,\n",
       " 4,\n",
       " 5,\n",
       " 6,\n",
       " 8,\n",
       " 10,\n",
       " 12,\n",
       " 14,\n",
       " 15,\n",
       " 16,\n",
       " 18,\n",
       " 20,\n",
       " 22,\n",
       " 24,\n",
       " 25,\n",
       " 26,\n",
       " 28,\n",
       " 30,\n",
       " 32,\n",
       " 34,\n",
       " 35,\n",
       " 36,\n",
       " 38,\n",
       " 40,\n",
       " 42,\n",
       " 44,\n",
       " 45,\n",
       " 46,\n",
       " 48,\n",
       " 50,\n",
       " 52,\n",
       " 54,\n",
       " 55,\n",
       " 56,\n",
       " 58,\n",
       " 60,\n",
       " 62,\n",
       " 64,\n",
       " 65,\n",
       " 66,\n",
       " 68,\n",
       " 70,\n",
       " 72,\n",
       " 74,\n",
       " 75,\n",
       " 76,\n",
       " 78,\n",
       " 80,\n",
       " 82,\n",
       " 84,\n",
       " 85,\n",
       " 86,\n",
       " 88,\n",
       " 90,\n",
       " 92,\n",
       " 94,\n",
       " 95,\n",
       " 96,\n",
       " 98,\n",
       " 100]"
      ]
     },
     "execution_count": 18,
     "metadata": {},
     "output_type": "execute_result"
    }
   ],
   "source": [
    "#numbers whose cube are divisible by 4 or 5 using for loop\n",
    "l=list(range(1,101))\n",
    "l1=[]\n",
    "for i in l:\n",
    "    if i**3 % 4 ==0 or i**3 % 5==0:\n",
    "       \n",
    "        l1.append(i)\n",
    "\n",
    "l1"
   ]
  },
  {
   "cell_type": "code",
   "execution_count": 19,
   "id": "38a0121e-b00d-4be2-9f83-fe8a49aedb61",
   "metadata": {},
   "outputs": [
    {
     "data": {
      "text/plain": [
       "[2,\n",
       " 4,\n",
       " 5,\n",
       " 6,\n",
       " 8,\n",
       " 10,\n",
       " 12,\n",
       " 14,\n",
       " 15,\n",
       " 16,\n",
       " 18,\n",
       " 20,\n",
       " 22,\n",
       " 24,\n",
       " 25,\n",
       " 26,\n",
       " 28,\n",
       " 30,\n",
       " 32,\n",
       " 34,\n",
       " 35,\n",
       " 36,\n",
       " 38,\n",
       " 40,\n",
       " 42,\n",
       " 44,\n",
       " 45,\n",
       " 46,\n",
       " 48,\n",
       " 50,\n",
       " 52,\n",
       " 54,\n",
       " 55,\n",
       " 56,\n",
       " 58,\n",
       " 60,\n",
       " 62,\n",
       " 64,\n",
       " 65,\n",
       " 66,\n",
       " 68,\n",
       " 70,\n",
       " 72,\n",
       " 74,\n",
       " 75,\n",
       " 76,\n",
       " 78,\n",
       " 80,\n",
       " 82,\n",
       " 84,\n",
       " 85,\n",
       " 86,\n",
       " 88,\n",
       " 90,\n",
       " 92,\n",
       " 94,\n",
       " 95,\n",
       " 96,\n",
       " 98,\n",
       " 100]"
      ]
     },
     "execution_count": 19,
     "metadata": {},
     "output_type": "execute_result"
    }
   ],
   "source": [
    "#numbers whose cube are divisible by 4 or 5 using while loop\n",
    "i=1\n",
    "numbers=[]\n",
    "while i<=100 :\n",
    "    if i**3 % 4 ==0 or i**3 % 5 ==0:\n",
    "         numbers.append(i)\n",
    "    i+=1\n",
    "numbers"
   ]
  },
  {
   "cell_type": "code",
   "execution_count": 20,
   "id": "8fdab2af-110b-42c2-88ed-de9ca376f4a4",
   "metadata": {},
   "outputs": [],
   "source": [
    "#counting vowels in a string"
   ]
  },
  {
   "cell_type": "code",
   "execution_count": 21,
   "id": "9817f91f-2e38-47a7-a6f9-4be4e86cbfe9",
   "metadata": {},
   "outputs": [
    {
     "name": "stdout",
     "output_type": "stream",
     "text": [
      "NUMBER OF VOWELS IN STRING IS 12\n"
     ]
    }
   ],
   "source": [
    "string = \"I want to become a data scientist\"\n",
    "vowels=\"aeiouAEIOU\"\n",
    "count=0\n",
    "for i in string:\n",
    "    if i in vowels:\n",
    "        count+=1\n",
    "print(\"NUMBER OF VOWELS IN STRING IS\",count)\n",
    "   "
   ]
  },
  {
   "cell_type": "code",
   "execution_count": null,
   "id": "9dc4b4a1-540e-4936-93b9-cfbe209c4cda",
   "metadata": {},
   "outputs": [],
   "source": []
  }
 ],
 "metadata": {
  "kernelspec": {
   "display_name": "Python 3 (ipykernel)",
   "language": "python",
   "name": "python3"
  },
  "language_info": {
   "codemirror_mode": {
    "name": "ipython",
    "version": 3
   },
   "file_extension": ".py",
   "mimetype": "text/x-python",
   "name": "python",
   "nbconvert_exporter": "python",
   "pygments_lexer": "ipython3",
   "version": "3.10.8"
  }
 },
 "nbformat": 4,
 "nbformat_minor": 5
}
